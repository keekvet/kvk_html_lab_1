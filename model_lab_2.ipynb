{
 "cells": [
  {
   "cell_type": "code",
   "execution_count": 27,
   "metadata": {},
   "outputs": [
    {
     "name": "stdout",
     "output_type": "stream",
     "text": [
      "    шв. догону опт. час догону\n",
      "0           25               -\n",
      "1           26               -\n",
      "2           27               -\n",
      "3           28               -\n",
      "4           29               -\n",
      "5           30               -\n",
      "6           31               -\n",
      "7           32               -\n",
      "8           33               -\n",
      "9           34               9\n",
      "10          35             4.5\n",
      "11          36               3\n",
      "12          37            2.25\n",
      "13          38             1.8\n",
      "14          39             1.5\n",
      "15          40         1.28571\n",
      "16          41           1.125\n",
      "17          42               1\n",
      "18          43             0.9\n",
      "19          44        0.818182\n",
      "20          45            0.75\n"
     ]
    },
    {
     "data": {
      "text/plain": [
       "[<matplotlib.lines.Line2D at 0x1c26fb19ac0>]"
      ]
     },
     "execution_count": 27,
     "metadata": {},
     "output_type": "execute_result"
    },
    {
     "data": {
      "image/png": "[encoded data removed]",
      "text/plain": [
       "<Figure size 432x288 with 1 Axes>"
      ]
     },
     "metadata": {
      "needs_background": "light"
     },
     "output_type": "display_data"
    }
   ],
   "source": [
    "import pandas as pd\n",
    "import matplotlib.pyplot as plt\n",
    "import math\n",
    "\n",
    "Dp = 9      #відстань до противника\n",
    "Vmin = 25   \n",
    "Vmax = 45   \n",
    "Vp = 33     #швидкість противника\n",
    "Td = 5      #час догону\n",
    "\n",
    "Vpos = [Vmin + v for v in range(0, int((Vmax - Vmin)) + 1)]\n",
    "\n",
    "Topt = []\n",
    "\n",
    "for Vtmp in Vpos:\n",
    "    Vdif = -(Vp - Vtmp)\n",
    "    if Vdif > 0:\n",
    "        Topt.append(Dp / Vdif)\n",
    "    else:\n",
    "        Topt.append('-')\n",
    "\n",
    "data = {'шв. догону':Vpos, 'опт. час догону': Topt}\n",
    "s = pd.DataFrame(data)\n",
    "print(s)\n",
    "\n",
    "\n",
    "plt.grid()\n",
    "\n",
    "plt.title('швидкість та оптимальний час')\n",
    "\n",
    "plt.xlabel('швидкість')\n",
    "plt.ylabel('оптимальний час')\n",
    "\n",
    "plt.plot(Vpos, Topt)\n"
   ]
  },
  {
   "cell_type": "code",
   "execution_count": null,
   "metadata": {},
   "outputs": [],
   "source": []
  }
 ],
 "metadata": {
  "kernelspec": {
   "display_name": "Python 3",
   "language": "python",
   "name": "python3"
  },
  "language_info": {
   "codemirror_mode": {
    "name": "ipython",
    "version": 3
   },
   "file_extension": ".py",
   "mimetype": "text/x-python",
   "name": "python",
   "nbconvert_exporter": "python",
   "pygments_lexer": "ipython3",
   "version": "3.8.5"
  }
 },
 "nbformat": 4,
 "nbformat_minor": 4
}
